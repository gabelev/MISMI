{
 "cells": [
  {
   "cell_type": "code",
   "execution_count": 25,
   "metadata": {
    "collapsed": true
   },
   "outputs": [],
   "source": [
    "def url_builder(page_range, terms):\n",
    "    base_url = 'http://www.amazon.com/s/rh=%2Ck%3A'\n",
    "    page = '&page='\n",
    "    plus = '+'\n",
    "    search_terms = plus.join(terms.split())\n",
    "    return [base_url + search_terms + page + str(i) for i in range(1, page_range+1)]"
   ]
  },
  {
   "cell_type": "code",
   "execution_count": 34,
   "metadata": {
    "collapsed": false
   },
   "outputs": [],
   "source": [
    "def url_dict_builder(page_range, list_of_terms):\n",
    "    result = {}\n",
    "    for term in list_of_terms:\n",
    "        urls_term = {}\n",
    "        urls = url_builder(page_range, term)\n",
    "        result[term] = urls\n",
    "    return result"
   ]
  },
  {
   "cell_type": "code",
   "execution_count": null,
   "metadata": {
    "collapsed": true
   },
   "outputs": [],
   "source": []
  }
 ],
 "metadata": {
  "kernelspec": {
   "display_name": "Python 2",
   "language": "python",
   "name": "python2"
  },
  "language_info": {
   "codemirror_mode": {
    "name": "ipython",
    "version": 2
   },
   "file_extension": ".py",
   "mimetype": "text/x-python",
   "name": "python",
   "nbconvert_exporter": "python",
   "pygments_lexer": "ipython2",
   "version": "2.7.9"
  }
 },
 "nbformat": 4,
 "nbformat_minor": 0
}
